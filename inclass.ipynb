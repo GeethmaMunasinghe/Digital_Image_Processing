{
  "nbformat": 4,
  "nbformat_minor": 0,
  "metadata": {
    "colab": {
      "provenance": []
    },
    "kernelspec": {
      "name": "python3",
      "display_name": "Python 3"
    },
    "language_info": {
      "name": "python"
    }
  },
  "cells": [
    {
      "cell_type": "code",
      "execution_count": null,
      "metadata": {
        "colab": {
          "base_uri": "https://localhost:8080/"
        },
        "id": "azW44e8eOMFs",
        "outputId": "b733864c-5060-4e8f-a017-7999ba15a5b8"
      },
      "outputs": [
        {
          "output_type": "execute_result",
          "data": {
            "text/plain": [
              "True"
            ]
          },
          "metadata": {},
          "execution_count": 1
        }
      ],
      "source": [
        "import cv2\n",
        "\n",
        "image = cv2.imread('image1.jpg')\n",
        "(h,w)=image.shape[:2]\n",
        "center=(w//2,h//2)\n",
        "matrix=cv2.getRotationMatrix2D(center,90,1.0)\n",
        "rotated_image=cv2.warpAffine(image,matrix,(w,h))\n",
        "cv2.imwrite('rotated_image.jpg',rotated_image)"
      ]
    },
    {
      "cell_type": "code",
      "source": [
        "image=cv2.imread('image1.jpg')\n",
        "\n",
        "blurred_image=cv2.GaussianBlur(image,(15,15),0)\n",
        "\n",
        "cv2.imwrite('blurred_image.jpg',blurred_image)\n",
        "\n"
      ],
      "metadata": {
        "colab": {
          "base_uri": "https://localhost:8080/"
        },
        "id": "cHsmOj5_TJXL",
        "outputId": "6abf98c3-b855-47d7-c6ce-e2378260b831"
      },
      "execution_count": null,
      "outputs": [
        {
          "output_type": "execute_result",
          "data": {
            "text/plain": [
              "True"
            ]
          },
          "metadata": {},
          "execution_count": 3
        }
      ]
    },
    {
      "cell_type": "markdown",
      "source": [
        "# New Section"
      ],
      "metadata": {
        "id": "9fskck6qUdaI"
      }
    },
    {
      "cell_type": "code",
      "source": [
        "\n",
        "image = cv2.imread('image1.jpg')\n",
        "\n",
        "gray_image=cv2.cvtColor(image,cv2.COLOR_BGR2GRAY)\n",
        "\n",
        "edges = cv2.Canny(gray_image,100,200)\n",
        "\n",
        "cv2.imwrite('edges.jpg',edges)\n",
        "\n",
        "\n"
      ],
      "metadata": {
        "colab": {
          "base_uri": "https://localhost:8080/"
        },
        "id": "_babv378VZAA",
        "outputId": "adcb436d-cfd3-477a-e3bc-600162ae783e"
      },
      "execution_count": 5,
      "outputs": [
        {
          "output_type": "execute_result",
          "data": {
            "text/plain": [
              "True"
            ]
          },
          "metadata": {},
          "execution_count": 5
        }
      ]
    },
    {
      "cell_type": "markdown",
      "source": [
        "# New Section"
      ],
      "metadata": {
        "id": "kpiGY1u9YVOI"
      }
    },
    {
      "cell_type": "code",
      "source": [
        "\n",
        "\n",
        "image=cv2.imread('image1.jpg')\n",
        "\n",
        "cv2.rectangle(image,(50,50),(200,200),(255,0,0),3)\n",
        "\n",
        "cv2.putText(image,'OpenCV',(60,40),cv2.FONT_HERSHEY_SIMPLEX,1,(0,255,0),2)\n",
        "\n",
        "cv2.imwrite('Output_Image.jpg',image)\n",
        "\n",
        "\n",
        "\n"
      ],
      "metadata": {
        "colab": {
          "base_uri": "https://localhost:8080/"
        },
        "id": "jsS71-Q3YV9o",
        "outputId": "63365c23-5cc1-45ba-c5f3-a3be490248f4"
      },
      "execution_count": 6,
      "outputs": [
        {
          "output_type": "execute_result",
          "data": {
            "text/plain": [
              "True"
            ]
          },
          "metadata": {},
          "execution_count": 6
        }
      ]
    },
    {
      "cell_type": "markdown",
      "source": [
        "# New Section"
      ],
      "metadata": {
        "id": "5j25r92IaVcn"
      }
    },
    {
      "cell_type": "code",
      "source": [
        "\n",
        "image=cv2.imread('image1.jpg',0)\n",
        "\n",
        "_,thresh_image= cv2.threshold(image,127,255,cv2.THRESH_BINARY)\n",
        "\n",
        "cv2.imwrite('threshold_image.jpg',thresh_image)\n",
        "\n"
      ],
      "metadata": {
        "colab": {
          "base_uri": "https://localhost:8080/"
        },
        "id": "cd2ppNn0aWGB",
        "outputId": "802b0c59-fd46-44f5-f9ad-af255c9c8e55"
      },
      "execution_count": 8,
      "outputs": [
        {
          "output_type": "execute_result",
          "data": {
            "text/plain": [
              "True"
            ]
          },
          "metadata": {},
          "execution_count": 8
        }
      ]
    }
  ]
}